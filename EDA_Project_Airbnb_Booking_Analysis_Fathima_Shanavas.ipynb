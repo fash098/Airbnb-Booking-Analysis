{
  "nbformat": 4,
  "nbformat_minor": 0,
  "metadata": {
    "colab": {
      "private_outputs": true,
      "provenance": [],
      "collapsed_sections": [
        "Seke61FWphqN",
        "b0JNsNcRphqO",
        "jj7wYXLtphqO",
        "eZrbJ2SmphqO",
        "rFu4xreNphqO",
        "YJ55k-q6phqO",
        "gCFgpxoyphqP",
        "OVtJsKN_phqQ",
        "lssrdh5qphqQ",
        "U2RJ9gkRphqQ",
        "1M8mcRywphqQ",
        "tgIPom80phqQ",
        "JMzcOPDDphqR",
        "x-EpHcCOp1ci",
        "X_VqEhTip1ck",
        "8zGJKyg5p1ck",
        "PVzmfK_Ep1ck",
        "n3dbpmDWp1ck",
        "ylSl6qgtp1ck",
        "ZWILFDl5p1ck",
        "M7G43BXep1ck",
        "Ag9LCva-p1cl",
        "E6MkPsBcp1cl",
        "2cELzS2fp1cl",
        "3MPXvC8up1cl",
        "q29F0dvdveiT",
        "EXh0U9oCveiU",
        "22aHeOlLveiV",
        "gIfDvo9L0UH2"
      ],
      "include_colab_link": true
    },
    "kernelspec": {
      "name": "python3",
      "display_name": "Python 3"
    },
    "language_info": {
      "name": "python"
    }
  },
  "cells": [
    {
      "cell_type": "markdown",
      "metadata": {
        "id": "view-in-github",
        "colab_type": "text"
      },
      "source": [
        "<a href=\"https://colab.research.google.com/github/fash098/Airbnb-Booking-Analysis/blob/main/EDA_Project_Airbnb_Booking_Analysis_Fathima_Shanavas.ipynb\" target=\"_parent\"><img src=\"https://colab.research.google.com/assets/colab-badge.svg\" alt=\"Open In Colab\"/></a>"
      ]
    },
    {
      "cell_type": "markdown",
      "source": [
        "# **Project Name**    -\n",
        "\n"
      ],
      "metadata": {
        "id": "vncDsAP0Gaoa"
      }
    },
    {
      "cell_type": "markdown",
      "source": [
        "##### **Project Type**    - EDA (Exploratory Data Analysis)\n",
        "##### **Contribution**    - Individual/Team\n"
      ],
      "metadata": {
        "id": "beRrZCGUAJYm"
      }
    },
    {
      "cell_type": "markdown",
      "source": [
        "# **Project Summary -**"
      ],
      "metadata": {
        "id": "FJNUwmbgGyua"
      }
    },
    {
      "cell_type": "markdown",
      "source": [
        "Since 2008, Airbnb has facilitated a novel and personalized approach to travel for both guests and hosts, which has resulted in its recognition as a one-of-a-kind service worldwide. The company places great importance on data analysis, particularly when it comes to the millions of listings available on its platform. These listings generate an immense amount of data, which can be used to enhance security, make informed business decisions, gain insight into customer and host behavior and performance, and guide marketing efforts, as well as implement innovative additional services. The dataset in question comprises approximately 49,000 observations, with a mix of categorical and numerical values across 16 columns.\n",
        "\n",
        "Our aim is to explore and analyze the data to discover key understandings (not limited to these) such as :\n",
        "\n",
        "\n",
        "1) What are the most popular cities for Airbnb bookings?\n",
        "\n",
        "2) Are there any geographic patterns in Airbnb bookings (e.g. certain neighborhoods or areas that are more popular)?\n",
        "\n",
        "3) What types of properties (e.g. apartments, houses, private rooms) are most popular among Airbnb guests?\n",
        "\n",
        "4) Who are some of the best hosts and some insights about their listings?\n",
        "\n",
        "5) What is the average length of stay for Airbnb guests?\n",
        "\n",
        "6) Which is the most expensive location? How does price range differ for different locations?\n"
      ],
      "metadata": {
        "id": "F6v_1wHtG2nS"
      }
    },
    {
      "cell_type": "markdown",
      "source": [
        "# **GitHub Link -**"
      ],
      "metadata": {
        "id": "w6K7xa23Elo4"
      }
    },
    {
      "cell_type": "markdown",
      "source": [
        "Provide your GitHub Link here."
      ],
      "metadata": {
        "id": "h1o69JH3Eqqn"
      }
    },
    {
      "cell_type": "markdown",
      "source": [
        "# **Problem Statement**\n"
      ],
      "metadata": {
        "id": "yQaldy8SH6Dl"
      }
    },
    {
      "cell_type": "markdown",
      "source": [
        "Pricing Optimization: To understand pricing factors, trends, and demand patterns to optimize listing prices, maximize revenue, and stay competitive.\n",
        "\n",
        "Revenue Management: Businesses can adjust pricing strategies, optimize inventory allocation, and effectively manage revenue based on booking patterns and demand fluctuations.\n",
        "\n",
        "Customer Segmentation: To identify customer segments based on demographics, preferences, and booking behavior. This supports targeted marketing, personalized recommendations, and improved customer satisfaction and loyalty.\n",
        "\n",
        "Property Investment Decisions: Provides valuable insights for property investors regarding profitable opportunities, property acquisition, pricing, and rental management based on factors like location, property type, and amenities.\n",
        "\n",
        "Market Expansion: To identify untapped markets and areas with high demand by examining booking patterns and customer reviews."
      ],
      "metadata": {
        "id": "DpeJGUA3kjGy"
      }
    },
    {
      "cell_type": "markdown",
      "source": [
        "#### **Define Your Business Objective?**"
      ],
      "metadata": {
        "id": "PH-0ReGfmX4f"
      }
    },
    {
      "cell_type": "markdown",
      "source": [
        "Our objective is to optimize pricing, maximize revenue, and enhance customer satisfaction through data-driven insights from Airbnb booking dataset.\n"
      ],
      "metadata": {
        "id": "PhDvGCAqmjP1"
      }
    },
    {
      "cell_type": "markdown",
      "source": [
        "# **General Guidelines** : -  "
      ],
      "metadata": {
        "id": "mDgbUHAGgjLW"
      }
    },
    {
      "cell_type": "markdown",
      "source": [
        "1.   Well-structured, formatted, and commented code is required.\n",
        "2.   Exception Handling, Production Grade Code & Deployment Ready Code will be a plus. Those students will be awarded some additional credits.\n",
        "     \n",
        "     The additional credits will have advantages over other students during Star Student selection.\n",
        "       \n",
        "             [ Note: - Deployment Ready Code is defined as, the whole .ipynb notebook should be executable in one go\n",
        "                       without a single error logged. ]\n",
        "\n",
        "3.   Each and every logic should have proper comments.\n",
        "4. You may add as many number of charts you want. Make Sure for each and every chart the following format should be answered.\n",
        "        \n",
        "\n",
        "```\n",
        "# Chart visualization code\n",
        "```\n",
        "            \n",
        "\n",
        "*   Why did you pick the specific chart?\n",
        "*   What is/are the insight(s) found from the chart?\n",
        "* Will the gained insights help creating a positive business impact?\n",
        "Are there any insights that lead to negative growth? Justify with specific reason.\n",
        "\n",
        "5. You have to create at least 20 logical & meaningful charts having important insights.\n",
        "\n",
        "\n",
        "[ Hints : - Do the Vizualization in  a structured way while following \"UBM\" Rule.\n",
        "\n",
        "U - Univariate Analysis,\n",
        "\n",
        "B - Bivariate Analysis (Numerical - Categorical, Numerical - Numerical, Categorical - Categorical)\n",
        "\n",
        "M - Multivariate Analysis\n",
        " ]\n",
        "\n",
        "\n",
        "\n"
      ],
      "metadata": {
        "id": "ZrxVaUj-hHfC"
      }
    },
    {
      "cell_type": "markdown",
      "source": [
        "# ***Let's Begin !***"
      ],
      "metadata": {
        "id": "O_i_v8NEhb9l"
      }
    },
    {
      "cell_type": "markdown",
      "source": [
        "## ***1. Know Your Data***"
      ],
      "metadata": {
        "id": "HhfV-JJviCcP"
      }
    },
    {
      "cell_type": "markdown",
      "source": [
        "### Import Libraries"
      ],
      "metadata": {
        "id": "Y3lxredqlCYt"
      }
    },
    {
      "cell_type": "code",
      "source": [
        "# Import Libraries\n",
        "import pandas as pd\n",
        "import numpy as np\n",
        "import matplotlib.pyplot as plt\n",
        "import seaborn as sns\n",
        "import plotly.express as px\n",
        "import plotly.graph_objects as go\n",
        "%matplotlib inline"
      ],
      "metadata": {
        "id": "M8Vqi-pPk-HR"
      },
      "execution_count": null,
      "outputs": []
    },
    {
      "cell_type": "markdown",
      "source": [
        "### Dataset Loading"
      ],
      "metadata": {
        "id": "3RnN4peoiCZX"
      }
    },
    {
      "cell_type": "code",
      "source": [
        "# Load Dataset\n",
        "from google.colab import drive\n",
        "drive.mount('/content/drive')\n"
      ],
      "metadata": {
        "id": "4CkvbW_SlZ_R"
      },
      "execution_count": null,
      "outputs": []
    },
    {
      "cell_type": "code",
      "source": [
        "path_file =('/content/drive/MyDrive/AlmaBetter/Capstone_Project/Airbnb_NYC_2019.csv')\n",
        "airbnb_df = pd.read_csv(path_file)"
      ],
      "metadata": {
        "id": "p5pKwKFZPdi9"
      },
      "execution_count": null,
      "outputs": []
    },
    {
      "cell_type": "markdown",
      "source": [
        "### Dataset First View"
      ],
      "metadata": {
        "id": "x71ZqKXriCWQ"
      }
    },
    {
      "cell_type": "code",
      "source": [
        "# Dataset First Look\n",
        "airbnb_df.head(6)"
      ],
      "metadata": {
        "id": "LWNFOSvLl09H"
      },
      "execution_count": null,
      "outputs": []
    },
    {
      "cell_type": "markdown",
      "source": [
        "### Dataset Rows & Columns count"
      ],
      "metadata": {
        "id": "7hBIi_osiCS2"
      }
    },
    {
      "cell_type": "code",
      "source": [
        "# Dataset Rows & Columns count\n",
        "airbnb_df.shape"
      ],
      "metadata": {
        "id": "Kllu7SJgmLij"
      },
      "execution_count": null,
      "outputs": []
    },
    {
      "cell_type": "markdown",
      "source": [
        "There are 48895 rows and 16 columns in this dataset"
      ],
      "metadata": {
        "id": "yC_RmHiTQVx-"
      }
    },
    {
      "cell_type": "markdown",
      "source": [
        "### Dataset Information"
      ],
      "metadata": {
        "id": "JlHwYmJAmNHm"
      }
    },
    {
      "cell_type": "code",
      "source": [
        "# Dataset Info\n",
        "airbnb_df.info\n"
      ],
      "metadata": {
        "id": "e9hRXRi6meOf"
      },
      "execution_count": null,
      "outputs": []
    },
    {
      "cell_type": "markdown",
      "source": [
        "#### Duplicate Values"
      ],
      "metadata": {
        "id": "35m5QtbWiB9F"
      }
    },
    {
      "cell_type": "code",
      "source": [
        "# Dataset Duplicate Value Count\n",
        "len(airbnb_df[airbnb_df.duplicated()])"
      ],
      "metadata": {
        "id": "1sLdpKYkmox0"
      },
      "execution_count": null,
      "outputs": []
    },
    {
      "cell_type": "markdown",
      "source": [
        "There are no duplicate values in this dataset"
      ],
      "metadata": {
        "id": "QAnKZn3PQmGq"
      }
    },
    {
      "cell_type": "markdown",
      "source": [
        "#### Missing Values/Null Values"
      ],
      "metadata": {
        "id": "PoPl-ycgm1ru"
      }
    },
    {
      "cell_type": "code",
      "source": [
        "# Missing Values/Null Values Count\n",
        "print(airbnb_df.isnull().sum())"
      ],
      "metadata": {
        "id": "GgHWkxvamxVg"
      },
      "execution_count": null,
      "outputs": []
    },
    {
      "cell_type": "code",
      "source": [
        "# Visualizing the missing values\n",
        "# Checking Null Value by plotting Heatmap\n",
        "sns.heatmap(airbnb_df.isnull(), cbar=False)"
      ],
      "metadata": {
        "id": "3q5wnI3om9sJ"
      },
      "execution_count": null,
      "outputs": []
    },
    {
      "cell_type": "markdown",
      "source": [
        "last_review and reviews_per_month has reasonably high null values."
      ],
      "metadata": {
        "id": "LnidwNBUQ4mx"
      }
    },
    {
      "cell_type": "markdown",
      "source": [
        "### What did you know about your dataset?"
      ],
      "metadata": {
        "id": "H0kj-8xxnORC"
      }
    },
    {
      "cell_type": "markdown",
      "source": [
        "The dataset provided pertains to the booking details of Airbnb for the year 2019 and serves as the foundation for deriving valuable insights to enhance stakeholders' business operations. The dataset comprises 48,895 rows and 16 columns, demonstrating a comprehensive representation of the data. Notably, the dataset exhibits zero instances of duplicate entries, ensuring data integrity. However, it is worth noting that certain columns, specifically 'last_reviews' and 'reviews per month', contain a significant number of missing values. Rest assured, addressing and resolving these missing values will be an integral part of our ongoing project, guaranteeing the reliability and completeness of our analysis."
      ],
      "metadata": {
        "id": "gfoNAAC-nUe_"
      }
    },
    {
      "cell_type": "markdown",
      "source": [
        "## ***2. Understanding Your Variables***"
      ],
      "metadata": {
        "id": "nA9Y7ga8ng1Z"
      }
    },
    {
      "cell_type": "code",
      "source": [
        "# Dataset Columns\n",
        "airbnb_df.columns"
      ],
      "metadata": {
        "id": "j7xfkqrt5Ag5"
      },
      "execution_count": null,
      "outputs": []
    },
    {
      "cell_type": "code",
      "source": [
        "# Dataset Describe\n",
        "airbnb_df.describe(include='all')"
      ],
      "metadata": {
        "id": "DnOaZdaE5Q5t"
      },
      "execution_count": null,
      "outputs": []
    },
    {
      "cell_type": "markdown",
      "source": [
        "### Variables Description"
      ],
      "metadata": {
        "id": "PBTbrJXOngz2"
      }
    },
    {
      "cell_type": "markdown",
      "source": [
        "The average minimum number of nights for bookings is 7.029.\n",
        "\n",
        "The lowest recorded minimum nights for bookings is 1.\n",
        "\n",
        "An unusually high maximum value of 1250 for minimum nights is observed, indicating a potential anomaly.\n",
        "\n",
        "The minimum price charged for bookings is 0, which is not a reasonable value.\n",
        "\n",
        "The average price for bookings is $152.72.\n",
        "\n",
        "The highest recorded price for bookings is $10,000."
      ],
      "metadata": {
        "id": "aJV4KIxSnxay"
      }
    },
    {
      "cell_type": "markdown",
      "source": [
        "### Check Unique Values for each variable."
      ],
      "metadata": {
        "id": "u3PMJOP6ngxN"
      }
    },
    {
      "cell_type": "code",
      "source": [
        "# Check Unique Values for each variable.\n",
        "for column in airbnb_df.columns.tolist():\n",
        "    unique_count = airbnb_df[column].nunique()\n",
        "    print(\"The number of unique values in\", column, \"is\", unique_count)"
      ],
      "metadata": {
        "id": "zms12Yq5n-jE"
      },
      "execution_count": null,
      "outputs": []
    },
    {
      "cell_type": "markdown",
      "source": [
        "## 3. ***Data Wrangling***"
      ],
      "metadata": {
        "id": "dauF4eBmngu3"
      }
    },
    {
      "cell_type": "markdown",
      "source": [
        "### Data Wrangling Code"
      ],
      "metadata": {
        "id": "bKJF3rekwFvQ"
      }
    },
    {
      "cell_type": "code",
      "source": [
        "# Write your code to make your dataset analysis ready.\n",
        "#Preparing the dataset for wrangling\n",
        "# Creating a copy of the dataset\n",
        "df = airbnb_df.copy()\n"
      ],
      "metadata": {
        "id": "wk-9a2fpoLcV"
      },
      "execution_count": null,
      "outputs": []
    },
    {
      "cell_type": "code",
      "source": [
        "#Checking for null values\n",
        "df.isnull().sum()"
      ],
      "metadata": {
        "id": "M0Mr_0OkZTDu"
      },
      "execution_count": null,
      "outputs": []
    },
    {
      "cell_type": "code",
      "source": [
        "#Handling missing values by adding zero to it.\n",
        "df.fillna({'reviews_per_month':0},inplace=True)\n",
        "df.fillna({'last_review':0},inplace=True)\n",
        "df.fillna({'name':0},inplace=True)\n",
        "df.fillna({'host_name':0},inplace=True)"
      ],
      "metadata": {
        "id": "EfYk82UmYKTH"
      },
      "execution_count": null,
      "outputs": []
    },
    {
      "cell_type": "code",
      "source": [
        "df.isnull().sum()\n",
        "\n",
        "#missing values successfully filled."
      ],
      "metadata": {
        "id": "YhqxxVIyZOeJ"
      },
      "execution_count": null,
      "outputs": []
    },
    {
      "cell_type": "code",
      "source": [
        "#Checking for the datatypes of each column\n",
        "df.dtypes\n",
        "\n",
        "#Need not change any datatype for now"
      ],
      "metadata": {
        "id": "sjVYTVYFZuqf"
      },
      "execution_count": null,
      "outputs": []
    },
    {
      "cell_type": "code",
      "source": [
        "#It was observed that the minimum price of booking is 0 which must have been an error. So let's clean that value and choose only price above 0.\n",
        "\n",
        "df = df[df['price'] > 0]\n",
        "df.describe()\n"
      ],
      "metadata": {
        "id": "h9rM70J4aEGG"
      },
      "execution_count": null,
      "outputs": []
    },
    {
      "cell_type": "code",
      "source": [
        "# Performing some aggregate functions for obtaining better insights about the data\n",
        "#Airbnb booking trend with respect to property type\n",
        "df_property_types = df['room_type'].value_counts()\n",
        "print(df_property_types)"
      ],
      "metadata": {
        "id": "FplXEl36cYJi"
      },
      "execution_count": null,
      "outputs": []
    },
    {
      "cell_type": "code",
      "source": [
        "# Airbnb booking trend with respect to neighbourhood\n",
        "df_area = df[\"neighbourhood_group\"].value_counts()\n",
        "print(df_area)"
      ],
      "metadata": {
        "id": "h7vsAaIKdLzn"
      },
      "execution_count": null,
      "outputs": []
    },
    {
      "cell_type": "code",
      "source": [
        "#Price per neighbourhood_group according to different room types.\n",
        "price_per_group = df.groupby(['neighbourhood_group','room_type'])['price'].sum().sort_values(ascending=False).reset_index()\n",
        "print(price_per_group)"
      ],
      "metadata": {
        "id": "3EXEGRBJdd6l"
      },
      "execution_count": null,
      "outputs": []
    },
    {
      "cell_type": "code",
      "source": [
        "#An overall picture about property preferences\n",
        "property_preference=df.groupby(['latitude','longitude','name','host_id',\"neighbourhood_group\",'neighbourhood', 'room_type'])['number_of_reviews'].sum().sort_values(ascending=False).nlargest(n=10).reset_index()\n",
        "print(property_preference)"
      ],
      "metadata": {
        "id": "9VNKDTf8eBrR"
      },
      "execution_count": null,
      "outputs": []
    },
    {
      "cell_type": "code",
      "source": [
        "#Most revenue yielding neighbourhoods and respective neighbourhood groups.\n",
        "revenue_yeilding_neighbourhoods=df.groupby([\"neighbourhood_group\",'neighbourhood', 'room_type'])['price'].sum().sort_values(ascending=False).nlargest(n=10).reset_index()\n",
        "print(revenue_yeilding_neighbourhoods)"
      ],
      "metadata": {
        "id": "9PyazwQ7eZIl"
      },
      "execution_count": null,
      "outputs": []
    },
    {
      "cell_type": "code",
      "source": [
        "# Understanding hosts with maximum listings.\n",
        "maximum_listings=df['host_id'].value_counts().head(10)\n",
        "print(maximum_listings)"
      ],
      "metadata": {
        "id": "Z_1mPS0veyVm"
      },
      "execution_count": null,
      "outputs": []
    },
    {
      "cell_type": "code",
      "source": [
        "# Understanding top hosts.\n",
        "top_hosts=df.groupby([\"host_id\"])['reviews_per_month'].sum().sort_values(ascending=False).nlargest(n=10).reset_index()\n",
        "print(top_hosts)"
      ],
      "metadata": {
        "id": "Ld6hkEDeoY2g"
      },
      "execution_count": null,
      "outputs": []
    },
    {
      "cell_type": "markdown",
      "source": [
        "### What all manipulations have you done and insights you found?"
      ],
      "metadata": {
        "id": "MSa1f5Uengrz"
      }
    },
    {
      "cell_type": "markdown",
      "source": [
        "All the manipulations done are on the copy of the dataset keeping the original dataset intact.\n",
        "\n",
        "1) First step was to look out for null values and filling those voids. The approach we adopted here was replacing nulls with 0.\n",
        "\n",
        "2) While we used describe method on the data some anomalies were observed. One most important anomaly among them was minimum price. Minimum price was shown 0. Infact there were many rows with 0 as the per night booking price. This must have occured as an error while updating the data and such rows are not useful for the study. So we removed such rows from the study.\n",
        "\n",
        "3) Next few steps were to understand the data deeper. It was understood that the data was about the Airbnb booking data of New York in the year 2019. This data is spead across the 5 boroughs of New York :\n",
        "\n",
        "    a) Manhattan\n",
        "    b) Brooklyn\n",
        "    c) Queens\n",
        "    d) Bronx\n",
        "    e) Staten Island\n",
        "\n",
        "In these 5 neighbourhood groups Airbnb stays are of 3 types\n",
        "\n",
        "    a) Entire home/apartment\n",
        "    b) Private room\n",
        "    c) Shared room\n",
        "\n",
        "4) Later we performed some group by functions to get a broader idea about some of the best locations and room types that brings in maximum revenue and by how much. We also delved deeper into property preferences. We understood that the room type that brings in maximum revenue is actually private rooms among which\n",
        "\n",
        "    1) Jamaica of Queens,\n",
        "    2) Harlem of Manhattan and\n",
        "    3) East Elmhurst of Queens\n",
        "   \n",
        "are the most popular neighbourhoods.\n",
        "\n",
        "5) Finally we got a good picture on the hosts with maximum listings as well as top performing hosts. Host with host_id '219517861' is the best host with the highest number of properties.\n"
      ],
      "metadata": {
        "id": "LbyXE7I1olp8"
      }
    },
    {
      "cell_type": "markdown",
      "source": [
        "## ***4. Data Vizualization, Storytelling & Experimenting with charts : Understand the relationships between variables***"
      ],
      "metadata": {
        "id": "GF8Ens_Soomf"
      }
    },
    {
      "cell_type": "markdown",
      "source": [
        "#### Chart - 1 | Bar Chart on Property Types"
      ],
      "metadata": {
        "id": "0wOQAZs5pc--"
      }
    },
    {
      "cell_type": "code",
      "source": [
        "# Chart - 1 visualization code\n",
        "ax = df_property_types.plot.bar(figsize = (10,5),fontsize = 14)\n",
        "# Set the title\n",
        "ax.set_title(\"Trend in Airbnb bookings with respect to property type\", fontsize = 20)\n",
        "# Set x and y-labels\n",
        "ax.set_xlabel(\"Property Type\", fontsize = 15)\n",
        "ax.set_ylabel(\"Number of bookings \", fontsize = 15)\n"
      ],
      "metadata": {
        "id": "7v_ESjsspbW7"
      },
      "execution_count": null,
      "outputs": []
    },
    {
      "cell_type": "markdown",
      "source": [
        "##### 1. Why did you pick the specific chart?"
      ],
      "metadata": {
        "id": "K5QZ13OEpz2H"
      }
    },
    {
      "cell_type": "markdown",
      "source": [
        "A bar chart plots numeric values for levels of a categorical feature as bars. Levels are plotted on one chart axis, and values are plotted on the other axis. Each categorical value claims one bar, and the length of each bar corresponds to the bar’s value. Bars are plotted on a common baseline to allow for easy comparison of values. To understand the trend between bookings and property type, bar chart seemed like the best possible visualization.\n",
        "\n"
      ],
      "metadata": {
        "id": "XESiWehPqBRc"
      }
    },
    {
      "cell_type": "markdown",
      "source": [
        "##### 2. What is/are the insight(s) found from the chart?"
      ],
      "metadata": {
        "id": "lQ7QKXXCp7Bj"
      }
    },
    {
      "cell_type": "markdown",
      "source": [
        "Shared rooms are the least popular type of lodging for Airbnb customers, whereas more people prefer to rent out entire apartments or homes closely followed by private rooms\n"
      ],
      "metadata": {
        "id": "C_j1G7yiqdRP"
      }
    },
    {
      "cell_type": "markdown",
      "source": [
        "##### 3. Will the gained insights help creating a positive business impact?\n",
        "Are there any insights that lead to negative growth? Justify with specific reason."
      ],
      "metadata": {
        "id": "448CDAPjqfQr"
      }
    },
    {
      "cell_type": "markdown",
      "source": [
        "It is suggested to increase availability of entire apartments/homes as well as private rooms to boost the profits."
      ],
      "metadata": {
        "id": "3cspy4FjqxJW"
      }
    },
    {
      "cell_type": "markdown",
      "source": [
        "#### Chart - 2 | Pie Chart on Neighbourhood Groups\n",
        "\n"
      ],
      "metadata": {
        "id": "KSlN3yHqYklG"
      }
    },
    {
      "cell_type": "code",
      "source": [
        "# Chart - 2 visualization code\n",
        "sns.set_theme(palette='pastel',font_scale=1)\n",
        "ax = df_area.plot.pie(figsize = (10,5),fontsize = 7, autopct='%.0f%%')\n",
        "#Set the title\n",
        "ax.set_title(\"Trend in Airbnb bookings with respect to neighbourhood groups\", fontsize = 20)\n"
      ],
      "metadata": {
        "id": "R4YgtaqtYklH"
      },
      "execution_count": null,
      "outputs": []
    },
    {
      "cell_type": "markdown",
      "source": [
        "##### 1. Why did you pick the specific chart?"
      ],
      "metadata": {
        "id": "t6dVpIINYklI"
      }
    },
    {
      "cell_type": "markdown",
      "source": [
        "A data's part-to-whole relationship is illustrated with a pie chart. The area covered in a circle with various colours makes it simple to illustrate how the percentages compare. When comparing different percentages, pie charts are widely utilised. I thus developed a pie chart, which enabled me to compare the percentage of bookings with repect to different neighbourbood groups."
      ],
      "metadata": {
        "id": "5aaW0BYyYklI"
      }
    },
    {
      "cell_type": "markdown",
      "source": [
        "##### 2. What is/are the insight(s) found from the chart?"
      ],
      "metadata": {
        "id": "ijmpgYnKYklI"
      }
    },
    {
      "cell_type": "markdown",
      "source": [
        "It is observed that 44% of the guests book Airbnbs in Manhattan which is closely followed by Brooklyn with 41%. Queens hosts only 12% of guests. Bronx and Staten island hosts the least number of guests with a meagre 2 and 1 percent of guests respectively"
      ],
      "metadata": {
        "id": "PSx9atu2YklI"
      }
    },
    {
      "cell_type": "markdown",
      "source": [
        "##### 3. Will the gained insights help creating a positive business impact?\n",
        "Are there any insights that lead to negative growth? Justify with specific reason."
      ],
      "metadata": {
        "id": "-JiQyfWJYklI"
      }
    },
    {
      "cell_type": "markdown",
      "source": [
        "- Most guests travel to Manhattan and Brooklyn. Queens also hosts guests of significant proportion. Listings could be increased in these locations.\n",
        "- It is assumed that Bronx and Staten Island has their geographical disadvantages due to which guests are less. More research could be done on Bronx and Staten Island."
      ],
      "metadata": {
        "id": "BcBbebzrYklV"
      }
    },
    {
      "cell_type": "markdown",
      "source": [
        "#### Chart - 3 | Stacked Bar Chart on Revenue Per Borough and the Specific Room Types"
      ],
      "metadata": {
        "id": "EM7whBJCYoAo"
      }
    },
    {
      "cell_type": "code",
      "source": [
        "# Chart - 3 visualization code\n",
        "ax = (df.pivot_table(index='neighbourhood_group', columns='room_type', values='price', aggfunc='sum'))\n",
        "ax.plot(kind='bar', stacked=True)\n",
        "#Set Title\n",
        "plt.title('REVENUE PER NEIGHBOURHOOD GROUPS AND ROOM TYPES')\n",
        "#Set y label\n",
        "plt.ylabel('price')\n",
        "plt.show()"
      ],
      "metadata": {
        "id": "t6GMdE67YoAp"
      },
      "execution_count": null,
      "outputs": []
    },
    {
      "cell_type": "markdown",
      "source": [
        "##### 1. Why did you pick the specific chart?"
      ],
      "metadata": {
        "id": "fge-S5ZAYoAp"
      }
    },
    {
      "cell_type": "markdown",
      "source": [
        "The stacked bar chart extends the standard bar chart from looking at numeric values across one categorical variable to two. Each bar in a standard bar chart is divided into a number of sub-bars stacked end to end, each one corresponding to a level of the second categorical variable. We are clearly able to visualize how the revenue distribution is among different room types for each neighbouring groups.\n",
        "\n"
      ],
      "metadata": {
        "id": "5dBItgRVYoAp"
      }
    },
    {
      "cell_type": "markdown",
      "source": [
        "##### 2. What is/are the insight(s) found from the chart?"
      ],
      "metadata": {
        "id": "85gYPyotYoAp"
      }
    },
    {
      "cell_type": "markdown",
      "source": [
        "- In Manhattan and Brooklyn almost 75% of guests prefer entire home/apartment. Almost 20-23 percent prefer private room and a meagre 1-2% opt for shared rooms.\n",
        "\n",
        "- In Queens the trend is different. Entire home/apartment and shared rooms are preferred almost equally with a very small percent opting for shared rooms.\n",
        "\n",
        "- In Bronx and Staten Island airbnb presence itself is very limited. Entire home/apartment and private rooms are preffered over shared rooms.\n",
        "\n",
        "- In a nutshell Entire home/apartments are most preferred and shared rooms are least preffered irrespective of locations based on boroughs.\n",
        "\n"
      ],
      "metadata": {
        "id": "4jstXR6OYoAp"
      }
    },
    {
      "cell_type": "markdown",
      "source": [
        "##### 3. Will the gained insights help creating a positive business impact?\n",
        "Are there any insights that lead to negative growth? Justify with specific reason."
      ],
      "metadata": {
        "id": "RoGjAbkUYoAp"
      }
    },
    {
      "cell_type": "markdown",
      "source": [
        "Again, Entire apartment/homes and Private rooms are most preferred. It is assumed that shared rooms are only preferred when people are travelling on high budget.\n",
        "If we want to boost sales for shared spaces, introducing fun and aesthetic listings under shared rooms could be helpful."
      ],
      "metadata": {
        "id": "zfJ8IqMcYoAp"
      }
    },
    {
      "cell_type": "markdown",
      "source": [
        "#### Chart - 4 | Bar Chart on Most Revenue Yielding Neighbourhoods\n",
        "\n"
      ],
      "metadata": {
        "id": "4Of9eVA-YrdM"
      }
    },
    {
      "cell_type": "code",
      "source": [
        "# Chart - 4 visualization code\n",
        "# Most revenue yielding neighbourhoods\n",
        "sns.set_theme(palette='pastel',font_scale=1)\n",
        "print(revenue_yeilding_neighbourhoods)\n",
        "df_area = revenue_yeilding_neighbourhoods\n",
        "df_area.plot(kind='bar', x='neighbourhood', y='price')\n",
        "plt.title('TOP 10 REVENUE YIELDING NEIGHBOURHOODS')\n",
        "plt.ylabel('price')"
      ],
      "metadata": {
        "id": "irlUoxc8YrdO"
      },
      "execution_count": null,
      "outputs": []
    },
    {
      "cell_type": "markdown",
      "source": [
        "##### 1. Why did you pick the specific chart?"
      ],
      "metadata": {
        "id": "iky9q4vBYrdO"
      }
    },
    {
      "cell_type": "markdown",
      "source": [
        "Bar charts though one of the most basic visualization method, is most preferred for this study as it clearly depicts revenue distribution among the top 10 neighbourhoods."
      ],
      "metadata": {
        "id": "aJRCwT6DYrdO"
      }
    },
    {
      "cell_type": "markdown",
      "source": [
        "##### 2. What is/are the insight(s) found from the chart?"
      ],
      "metadata": {
        "id": "F6T5p64dYrdO"
      }
    },
    {
      "cell_type": "markdown",
      "source": [
        "Top 3 revenue yeilding neighbourhoods are :    \n",
        "     a) Williamsburg in Brooklyn,\n",
        "     b) Midtown in Manhattan,\n",
        "     c) Upperwest side in Manhattan.\n",
        "\n",
        "It's also observed that in top 10 listings, 8 are from Manhattan and 2 are from Brooklyn.    \n"
      ],
      "metadata": {
        "id": "Xx8WAJvtYrdO"
      }
    },
    {
      "cell_type": "markdown",
      "source": [
        "##### 3. Will the gained insights help creating a positive business impact?\n",
        "Are there any insights that lead to negative growth? Justify with specific reason."
      ],
      "metadata": {
        "id": "y-Ehk30pYrdP"
      }
    },
    {
      "cell_type": "markdown",
      "source": [
        "- When we looked at booking trends, both Manhattan and Brooklyn had comparably similar booking rates.\n",
        "- However there is a considerable disparity among the revenue bought as well as the top performing listings when we compare these boroughs. This could be because of the overall charm of the listings, pricings, amenities, reviews, etc."
      ],
      "metadata": {
        "id": "dndcM8ACue0-"
      }
    },
    {
      "cell_type": "markdown",
      "source": [
        "#### Chart - 5 | Bar Chart on Top Hosts"
      ],
      "metadata": {
        "id": "bamQiAODYuh1"
      }
    },
    {
      "cell_type": "code",
      "source": [
        "top_hosts=df.groupby([\"host_id\"])['reviews_per_month'].sum().sort_values(ascending=False).nlargest(n=10).reset_index()\n",
        "top_hosts.plot(kind='bar', x='host_id', y='reviews_per_month')\n",
        "#Setting title and y label.\n",
        "plt.title('TOP 10 HOSTS')\n",
        "plt.ylabel('reviews_per_month')\n",
        "\n"
      ],
      "metadata": {
        "id": "tidFXv8D32G-"
      },
      "execution_count": null,
      "outputs": []
    },
    {
      "cell_type": "markdown",
      "source": [
        "##### 1. Why did you pick the specific chart?"
      ],
      "metadata": {
        "id": "QHF8YVU7Yuh3"
      }
    },
    {
      "cell_type": "markdown",
      "source": [
        "Bar char gives the best representation for host_id versus reviews per month."
      ],
      "metadata": {
        "id": "dcxuIMRPYuh3"
      }
    },
    {
      "cell_type": "markdown",
      "source": [
        "##### 2. What is/are the insight(s) found from the chart?"
      ],
      "metadata": {
        "id": "GwzvFGzlYuh3"
      }
    },
    {
      "cell_type": "markdown",
      "source": [
        "- Host with Host ID '219517861' is the best host with most number of reviews and properties.\n",
        "- There is a large disparity between host '219517861' and other hosts. This could be because of the best quality, service, aminities that the host is providing which is standing out from the other hosts.\n",
        "- It is also to be noted that this host has maximum number of properties. It is also possible that there are other hosts who are providing equally best properties but due to lesser number of listings we have not uncovered them."
      ],
      "metadata": {
        "id": "uyqkiB8YYuh3"
      }
    },
    {
      "cell_type": "markdown",
      "source": [
        "##### 3. Will the gained insights help creating a positive business impact?\n",
        "Are there any insights that lead to negative growth? Justify with specific reason."
      ],
      "metadata": {
        "id": "qYpmQ266Yuh3"
      }
    },
    {
      "cell_type": "markdown",
      "source": [
        "Multiple hosts with a huge number of listings are not getting enough guests. This needs to be checked."
      ],
      "metadata": {
        "id": "_WtzZ_hCYuh4"
      }
    },
    {
      "cell_type": "markdown",
      "source": [
        "#### Chart - 6 | Joint Plot on Host ID And Reviews"
      ],
      "metadata": {
        "id": "OH-pJp9IphqM"
      }
    },
    {
      "cell_type": "code",
      "source": [
        "# Chart - 6 visualization code\n",
        "#Jointplot to evaluate correlation between host_id and reviews.\n",
        "sns.jointplot(x='host_id', y='reviews_per_month', data=df)\n"
      ],
      "metadata": {
        "id": "kuRf4wtuphqN"
      },
      "execution_count": null,
      "outputs": []
    },
    {
      "cell_type": "markdown",
      "source": [
        "##### 1. Why did you pick the specific chart?"
      ],
      "metadata": {
        "id": "bbFf2-_FphqN"
      }
    },
    {
      "cell_type": "markdown",
      "source": [
        "The joint plot is a way of understanding the relationship between two variables and the distribution of individuals of each variable. The joint plot mainly consists of three separate plots in which, one of it was the middle figure that is used to see the relationship between x and y. Here we are trying to understand the relationship between host_id and reviews_per_month"
      ],
      "metadata": {
        "id": "loh7H2nzphqN"
      }
    },
    {
      "cell_type": "markdown",
      "source": [
        "##### 2. What is/are the insight(s) found from the chart?"
      ],
      "metadata": {
        "id": "_ouA3fa0phqN"
      }
    },
    {
      "cell_type": "markdown",
      "source": [
        "We are understanding that there is a positive correlation between host_id and reviews_per_month"
      ],
      "metadata": {
        "id": "VECbqPI7phqN"
      }
    },
    {
      "cell_type": "markdown",
      "source": [
        "##### 3. Will the gained insights help creating a positive business impact?\n",
        "Are there any insights that lead to negative growth? Justify with specific reason."
      ],
      "metadata": {
        "id": "Seke61FWphqN"
      }
    },
    {
      "cell_type": "markdown",
      "source": [
        "Addressing the performance of hosts with numerous listings but low guest engagement could potentially improve overall host performance."
      ],
      "metadata": {
        "id": "DW4_bGpfphqN"
      }
    },
    {
      "cell_type": "markdown",
      "source": [
        "#### Chart - 7 | Box Plot on Price Per Neighbourhood Groups"
      ],
      "metadata": {
        "id": "PIIx-8_IphqN"
      }
    },
    {
      "cell_type": "code",
      "source": [
        "# Chart - 7 visualization code\n",
        "sns.set_style(\"whitegrid\")\n",
        "price_distribution = df[df.price <700]\n",
        "plt.title(\"PRICE PER NEIGHBOURHOOD GROUP\")\n",
        "sns.boxplot(y= 'price',x= 'neighbourhood_group',data=price_distribution)\n",
        "plt.show()"
      ],
      "metadata": {
        "id": "lqAIGUfyphqO"
      },
      "execution_count": null,
      "outputs": []
    },
    {
      "cell_type": "markdown",
      "source": [
        "##### 1. Why did you pick the specific chart?"
      ],
      "metadata": {
        "id": "t27r6nlMphqO"
      }
    },
    {
      "cell_type": "markdown",
      "source": [
        "A box plot uses boxes and lines to depict the distributions of one or more groups of numeric data. Box limits indicate the range of the central 50% of the data, with a central line marking the median value. Lines extend from each box to capture the range of the remaining data, with dots placed past the line edges to indicate outliers."
      ],
      "metadata": {
        "id": "iv6ro40sphqO"
      }
    },
    {
      "cell_type": "markdown",
      "source": [
        "##### 2. What is/are the insight(s) found from the chart?"
      ],
      "metadata": {
        "id": "r2jJGEOYphqO"
      }
    },
    {
      "cell_type": "markdown",
      "source": [
        "- Manhattan seems to have the highest price range for the listings followed by Brooklyn\n",
        "- Queens and Staten Island very similar type of distribution with Queens leading by a conspicous difference\n",
        "- Listings in Bronx evidently are the cheapest accomodation options."
      ],
      "metadata": {
        "id": "Po6ZPi4hphqO"
      }
    },
    {
      "cell_type": "markdown",
      "source": [
        "##### 3. Will the gained insights help creating a positive business impact?\n",
        "Are there any insights that lead to negative growth? Justify with specific reason."
      ],
      "metadata": {
        "id": "b0JNsNcRphqO"
      }
    },
    {
      "cell_type": "markdown",
      "source": [
        "Answer Here"
      ],
      "metadata": {
        "id": "xvSq8iUTphqO"
      }
    },
    {
      "cell_type": "markdown",
      "source": [
        "#### Chart - 8 - Correlation Heatmap"
      ],
      "metadata": {
        "id": "NC_X3p0fY2L0"
      }
    },
    {
      "cell_type": "code",
      "source": [
        "# Correlation between different variables\n",
        "\n",
        "corr = df.corr()\n",
        "# Set up the matplotlib plot configuration\n",
        "f, ax = plt.subplots(figsize=(12, 10))\n",
        "# Generate a mask for upper traingle\n",
        "mask = np.triu(np.ones_like(corr, dtype=bool))\n",
        "# Configure a custom diverging colormap\n",
        "cmap = sns.diverging_palette(230, 20, as_cmap=True)\n",
        "sns.heatmap(corr, annot=True, mask = mask, cmap=cmap)\n"
      ],
      "metadata": {
        "id": "2zKoaHf0iTVE"
      },
      "execution_count": null,
      "outputs": []
    },
    {
      "cell_type": "markdown",
      "source": [
        "##### 1. Why did you pick the specific chart?"
      ],
      "metadata": {
        "id": "UV0SzAkaZNRQ"
      }
    },
    {
      "cell_type": "markdown",
      "source": [
        "Correlation heatmaps are a type of plot that visualize the strength of relationships between numerical variables. Correlation plots are used to understand which variables are related to each other and the strength of this relationship.\n",
        "We used correlation heatmap here to check if some variables have any direct correlation with other variables.\n"
      ],
      "metadata": {
        "id": "DVPuT8LYZNRQ"
      }
    },
    {
      "cell_type": "markdown",
      "source": [
        "##### 2. What is/are the insight(s) found from the chart?"
      ],
      "metadata": {
        "id": "YPEH6qLeZNRQ"
      }
    },
    {
      "cell_type": "markdown",
      "source": [
        "- Reviwes per month and Number of reviews are highly correlated as expected.\n",
        "- Host ID has some correlation with 3 other variables such as\n",
        "\n",
        "    1) Availability\n",
        "    2) Listings\n",
        "    3) Availability through 365 days."
      ],
      "metadata": {
        "id": "bfSqtnDqZNRR"
      }
    },
    {
      "cell_type": "markdown",
      "source": [
        "## **5. Solution to Business Objective**"
      ],
      "metadata": {
        "id": "JcMwzZxoAimU"
      }
    },
    {
      "cell_type": "markdown",
      "source": [
        "#### What do you suggest the client to achieve Business Objective ?\n",
        "Explain Briefly."
      ],
      "metadata": {
        "id": "8G2x9gOozGDZ"
      }
    },
    {
      "cell_type": "markdown",
      "source": [
        "Based on the observations made during the exploratory data analysis of the Airbnb booking dataset, here are some suggestions to achieve the business objectives of optimizing pricing, maximizing revenue, and enhancing customer satisfaction:\n",
        "\n",
        "- **Room Type Optimization:**\n",
        "\n",
        " Private rooms are the most revenue-generating room type, especially in popular neighborhoods like Jamaica (Queens), Harlem (Manhattan), and East Elmhurst (Queens).\n",
        " To optimize pricing and maximize revenue, consider offering more private rooms in these popular neighborhoods.\n",
        " However, don't neglect the demand for entire apartments/homes as they also contribute significantly to revenue.\n",
        "\n",
        "\n",
        "- **Geographical Focus:**\n",
        "\n",
        " Manhattan and Brooklyn are the most popular boroughs among guests, with Queens also hosting a significant number of guests.\n",
        " Consider increasing the number of listings in Manhattan and Brooklyn to further cater to guest demand.\n",
        " While Bronx and Staten Island have lower guest numbers, it might be worth conducting further research to understand any geographical disadvantages that could be impacting demand in these areas.\n",
        "\n",
        "- **Room Type Preference by Borough:**\n",
        "\n",
        " Guests overwhelmingly prefer entire home/apartment rentals in Manhattan and Brooklyn, with private rooms also being popular.\n",
        " In Queens, there's a more balanced preference between entire home/apartment and shared rooms.\n",
        " In Bronx and Staten Island, prioritize offering entire home/apartment and private room options over shared rooms.\n",
        " Consider adjusting the listing distribution in each borough to align with these preferences.\n",
        "\n",
        "- **Top Revenue-Generating Neighborhoods:**\n",
        "\n",
        " Focus on neighborhoods like Williamsburg (Brooklyn), Midtown (Manhattan), and Upper West Side (Manhattan) for higher revenue.\n",
        " Since most of the top revenue-yielding neighborhoods are in Manhattan, ensure that listings in these neighborhoods are well-maintained, competitively priced, and offer exceptional amenities.\n",
        "\n",
        "- **Host Performance and Listings:**\n",
        "\n",
        " Investigate why the host with Host ID '219517861' is outperforming others significantly. Analyze their properties, services, and amenities to identify best practices.\n",
        " Address the imbalance between hosts with a large number of listings and their actual booking rates. Some hosts might need assistance to improve their listings' visibility and attractiveness.\n",
        "\n",
        "- **Pricing Strategy:**\n",
        "\n",
        " Review the pricing strategy for listings in different boroughs. For instance, since Manhattan and Brooklyn have higher price ranges, ensure that the prices are justified by the quality of accommodations and services.\n",
        " Consider introducing competitive pricing for listings in Bronx and Staten Island to attract more budget-conscious travelers.\n",
        "\n",
        "- **Correlation Insights:**\n",
        "\n",
        " High correlation between reviews per month and the number of reviews suggests that actively reviewed properties tend to have more bookings.\n",
        " Host ID's correlation with availability, listings, and availability through 365 days could indicate that certain hosts are more consistent in managing and maintaining their properties.\n",
        "\n",
        "- **Negative Growth Considerations:**\n",
        "\n",
        " Shared rooms are less popular and generate less revenue compared to entire apartments/homes or private rooms. While you might want to continue offering shared rooms for budget travelers, the focus should be on increasing the availability and quality of entire apartments/homes and private rooms.\n",
        "\n",
        "- **Enhancing Guest Experience:**\n",
        "\n",
        " Collect guest feedback and reviews to identify areas of improvement. Address any recurring issues or concerns raised by guests to enhance overall satisfaction.\n",
        " Consider providing unique and aesthetically pleasing shared room options to attract more guests to this category.\n",
        "\n",
        "- **Marketing and Promotion:**\n",
        "\n",
        " Use data insights to inform marketing strategies. Promote listings in popular neighborhoods and boroughs to attract more bookings.\n",
        " Highlight unique features and amenities of listings to stand out from competitors."
      ],
      "metadata": {
        "id": "pASKb0qOza21"
      }
    },
    {
      "cell_type": "markdown",
      "source": [
        "# **Conclusion**"
      ],
      "metadata": {
        "id": "gCX9965dhzqZ"
      }
    },
    {
      "cell_type": "markdown",
      "source": [
        "In conclusion, our exploratory data analysis of the Airbnb booking dataset for New York in the year 2019 has provided valuable insights into the booking trends and preferences of Airbnb guests. Through a comprehensive examination of various factors, we aimed to uncover key understandings that can contribute to informed decision-making and business strategies. Here are some of the significant findings from our analysis:\n",
        "\n",
        "- ***Popular Cities and Geographic Patterns:***\n",
        "\n",
        "Manhattan and Brooklyn emerged as the most popular boroughs for Airbnb bookings, with a majority of guests preferring these locations.\n",
        "Queens also hosted a considerable number of guests, while Bronx and Staten Island had fewer bookings, potentially due to geographical factors.\n",
        "To maximize business impact, focusing on Manhattan, Brooklyn, and Queens for expanding listings and marketing efforts could lead to positive growth.\n",
        "\n",
        "- ***Property Types and Preferences:***\n",
        "\n",
        "Private rooms were the top revenue-generating property type, particularly in neighborhoods like Jamaica (Queens), Harlem (Manhattan), and East Elmhurst (Queens).\n",
        "Our analysis suggests that offering more private rooms and entire home/apartments could enhance profitability and customer satisfaction.\n",
        "\n",
        "\n",
        "- ***Host Performance and Insights: ***\n",
        "\n",
        "Host with Host ID '219517861' stood out as the best host with the highest number of properties and reviews.\n",
        "This host's exceptional service quality, amenities, and property management practices likely contributed to their success.\n",
        "Addressing the performance of hosts with numerous listings but low guest engagement could potentially improve overall host performance.\n",
        "\n",
        "\n",
        "- ***Pricing and Revenue Distribution:***\n",
        "\n",
        "Revenue distribution varied across different room types and neighborhoods. Private rooms and entire home/apartments were preferred over shared rooms.\n",
        "Our data-driven recommendations include adjusting pricing strategies for shared rooms and emphasizing unique features to attract guests.\n",
        "\n",
        "\n",
        "- ***Revenue-Yielding Neighborhoods:***\n",
        "\n",
        "Williamsburg (Brooklyn), Midtown, and Upper West Side (both in Manhattan) emerged as the top revenue-generating neighborhoods.\n",
        "Capitalizing on the charm, amenities, and positive reviews of listings in these neighborhoods could drive further revenue growth.\n",
        "\n",
        "- ***Price Variation and Correlation Insights:***\n",
        "\n",
        "Price distribution varied across boroughs, with Manhattan and Brooklyn having higher price ranges.\n",
        "The correlation heatmap provided insights into the relationships between variables, such as reviews per month and number of reviews, which could guide strategies for maintaining and improving guest satisfaction.\n",
        "\n",
        "\n",
        "In summary, our exploratory data analysis has illuminated several avenues for optimizing pricing, maximizing revenue, and enhancing customer satisfaction within the Airbnb booking ecosystem. By strategically focusing on specific property types, neighborhoods, and pricing strategies, businesses can create positive impacts and cultivate an enhanced guest experience. However, it is important to continuously monitor trends, gather additional insights, and refine strategies based on evolving market dynamics to achieve sustained success in the competitive landscape of the hospitality industry.\n",
        "\n",
        "\n"
      ],
      "metadata": {
        "id": "Fjb1IsQkh3yE"
      }
    },
    {
      "cell_type": "markdown",
      "source": [
        "# **Thank you for viewing!**"
      ],
      "metadata": {
        "id": "c3G-BoCNHE_E"
      }
    },
    {
      "cell_type": "code",
      "source": [],
      "metadata": {
        "id": "pzAnvVJ5HRAf"
      },
      "execution_count": null,
      "outputs": []
    }
  ]
}